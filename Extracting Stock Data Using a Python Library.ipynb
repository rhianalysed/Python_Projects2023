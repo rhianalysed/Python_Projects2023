{
 "cells": [
  {
   "cell_type": "markdown",
   "id": "d6464510",
   "metadata": {},
   "source": [
    "# PROJECT 1\n",
    "This project uses yfinance and pandas library to extract data from a JSON file"
   ]
  },
  {
   "cell_type": "code",
   "execution_count": 1,
   "id": "8c489c08",
   "metadata": {},
   "outputs": [
    {
     "name": "stdout",
     "output_type": "stream",
     "text": [
      "Collecting yfinance==0.2.4\n",
      "  Downloading yfinance-0.2.4-py2.py3-none-any.whl (51 kB)\n",
      "\u001b[2K     \u001b[90m━━━━━━━━━━━━━━━━━━━━━━━━━━━━━━━━━━━━━━━━\u001b[0m \u001b[32m51.4/51.4 kB\u001b[0m \u001b[31m1.4 MB/s\u001b[0m eta \u001b[36m0:00:00\u001b[0m\n",
      "\u001b[?25hRequirement already satisfied: cryptography>=3.3.2 in /opt/anaconda3/lib/python3.9/site-packages (from yfinance==0.2.4) (37.0.1)\n",
      "Collecting multitasking>=0.0.7\n",
      "  Downloading multitasking-0.0.11-py3-none-any.whl (8.5 kB)\n",
      "Collecting lxml>=4.9.1\n",
      "  Downloading lxml-4.9.2-cp39-cp39-macosx_10_15_x86_64.whl (4.8 MB)\n",
      "\u001b[2K     \u001b[90m━━━━━━━━━━━━━━━━━━━━━━━━━━━━━━━━━━━━━━━━\u001b[0m \u001b[32m4.8/4.8 MB\u001b[0m \u001b[31m4.6 MB/s\u001b[0m eta \u001b[36m0:00:00\u001b[0m00:01\u001b[0m00:01\u001b[0m\n",
      "\u001b[?25hCollecting frozendict>=2.3.4\n",
      "  Downloading frozendict-2.3.5-cp39-cp39-macosx_10_9_x86_64.whl (34 kB)\n",
      "Requirement already satisfied: beautifulsoup4>=4.11.1 in /opt/anaconda3/lib/python3.9/site-packages (from yfinance==0.2.4) (4.11.1)\n",
      "Requirement already satisfied: requests>=2.26 in /opt/anaconda3/lib/python3.9/site-packages (from yfinance==0.2.4) (2.26.0)\n",
      "Requirement already satisfied: appdirs>=1.4.4 in /opt/anaconda3/lib/python3.9/site-packages (from yfinance==0.2.4) (1.4.4)\n",
      "Requirement already satisfied: html5lib>=1.1 in /opt/anaconda3/lib/python3.9/site-packages (from yfinance==0.2.4) (1.1)\n",
      "Requirement already satisfied: numpy>=1.16.5 in /opt/anaconda3/lib/python3.9/site-packages (from yfinance==0.2.4) (1.21.5)\n",
      "Requirement already satisfied: pandas>=1.3.0 in /opt/anaconda3/lib/python3.9/site-packages (from yfinance==0.2.4) (1.3.3)\n",
      "Collecting pytz>=2022.5\n",
      "  Downloading pytz-2022.7.1-py2.py3-none-any.whl (499 kB)\n",
      "\u001b[2K     \u001b[90m━━━━━━━━━━━━━━━━━━━━━━━━━━━━━━━━━━━━━━━\u001b[0m \u001b[32m499.4/499.4 kB\u001b[0m \u001b[31m4.2 MB/s\u001b[0m eta \u001b[36m0:00:00\u001b[0m00:01\u001b[0m00:01\u001b[0m\n",
      "\u001b[?25hRequirement already satisfied: soupsieve>1.2 in /opt/anaconda3/lib/python3.9/site-packages (from beautifulsoup4>=4.11.1->yfinance==0.2.4) (2.3.1)\n",
      "Requirement already satisfied: cffi>=1.12 in /opt/anaconda3/lib/python3.9/site-packages (from cryptography>=3.3.2->yfinance==0.2.4) (1.15.1)\n",
      "Requirement already satisfied: webencodings in /opt/anaconda3/lib/python3.9/site-packages (from html5lib>=1.1->yfinance==0.2.4) (0.5.1)\n",
      "Requirement already satisfied: six>=1.9 in /opt/anaconda3/lib/python3.9/site-packages (from html5lib>=1.1->yfinance==0.2.4) (1.16.0)\n",
      "Requirement already satisfied: python-dateutil>=2.7.3 in /opt/anaconda3/lib/python3.9/site-packages (from pandas>=1.3.0->yfinance==0.2.4) (2.8.2)\n",
      "Requirement already satisfied: idna<4,>=2.5 in /opt/anaconda3/lib/python3.9/site-packages (from requests>=2.26->yfinance==0.2.4) (3.3)\n",
      "Requirement already satisfied: certifi>=2017.4.17 in /opt/anaconda3/lib/python3.9/site-packages (from requests>=2.26->yfinance==0.2.4) (2022.9.24)\n",
      "Requirement already satisfied: charset-normalizer~=2.0.0 in /opt/anaconda3/lib/python3.9/site-packages (from requests>=2.26->yfinance==0.2.4) (2.0.4)\n",
      "Requirement already satisfied: urllib3<1.27,>=1.21.1 in /opt/anaconda3/lib/python3.9/site-packages (from requests>=2.26->yfinance==0.2.4) (1.26.11)\n",
      "Requirement already satisfied: pycparser in /opt/anaconda3/lib/python3.9/site-packages (from cffi>=1.12->cryptography>=3.3.2->yfinance==0.2.4) (2.21)\n",
      "Installing collected packages: pytz, multitasking, lxml, frozendict, yfinance\n",
      "  Attempting uninstall: pytz\n",
      "    Found existing installation: pytz 2022.1\n",
      "    Uninstalling pytz-2022.1:\n",
      "      Successfully uninstalled pytz-2022.1\n",
      "  Attempting uninstall: lxml\n",
      "    Found existing installation: lxml 4.6.4\n",
      "    Uninstalling lxml-4.6.4:\n",
      "      Successfully uninstalled lxml-4.6.4\n",
      "\u001b[31mERROR: pip's dependency resolver does not currently take into account all the packages that are installed. This behaviour is the source of the following dependency conflicts.\n",
      "conda-repo-cli 1.0.20 requires clyent==1.2.1, but you have clyent 1.2.2 which is incompatible.\n",
      "conda-repo-cli 1.0.20 requires nbformat==5.4.0, but you have nbformat 5.5.0 which is incompatible.\n",
      "conda-repo-cli 1.0.20 requires requests==2.28.1, but you have requests 2.26.0 which is incompatible.\u001b[0m\u001b[31m\n",
      "\u001b[0mSuccessfully installed frozendict-2.3.5 lxml-4.9.2 multitasking-0.0.11 pytz-2022.7.1 yfinance-0.2.4\n",
      "Requirement already satisfied: pandas==1.3.3 in /opt/anaconda3/lib/python3.9/site-packages (1.3.3)\n",
      "Requirement already satisfied: numpy>=1.17.3 in /opt/anaconda3/lib/python3.9/site-packages (from pandas==1.3.3) (1.21.5)\n",
      "Requirement already satisfied: pytz>=2017.3 in /opt/anaconda3/lib/python3.9/site-packages (from pandas==1.3.3) (2022.7.1)\n",
      "Requirement already satisfied: python-dateutil>=2.7.3 in /opt/anaconda3/lib/python3.9/site-packages (from pandas==1.3.3) (2.8.2)\n",
      "Requirement already satisfied: six>=1.5 in /opt/anaconda3/lib/python3.9/site-packages (from python-dateutil>=2.7.3->pandas==1.3.3) (1.16.0)\n"
     ]
    }
   ],
   "source": [
    "!pip install yfinance==0.2.4\n",
    "!pip install pandas==1.3.3\n",
    "import yfinance as yf\n",
    "import pandas as pd"
   ]
  },
  {
   "cell_type": "markdown",
   "id": "20894236",
   "metadata": {},
   "source": [
    "## Using YFinance to extract stock data \n",
    "Using the Ticker module we can create an object that will allow us to access functions to extract data."
   ]
  },
  {
   "cell_type": "code",
   "execution_count": 3,
   "id": "f55fffce",
   "metadata": {},
   "outputs": [],
   "source": [
    "#Using the Ticker module we can create an object that will allow us to access functions to extract data. \n",
    "amd = yf.Ticker(\"AMD\")"
   ]
  },
  {
   "cell_type": "code",
   "execution_count": 4,
   "id": "f09cbaa2",
   "metadata": {},
   "outputs": [
    {
     "name": "stdout",
     "output_type": "stream",
     "text": [
      "--2023-03-03 18:24:14--  https://cf-courses-data.s3.us.cloud-object-storage.appdomain.cloud/IBMDeveloperSkillsNetwork-PY0220EN-SkillsNetwork/data/amd.json\n",
      "Resolving cf-courses-data.s3.us.cloud-object-storage.appdomain.cloud (cf-courses-data.s3.us.cloud-object-storage.appdomain.cloud)... 169.63.118.104\n",
      "Connecting to cf-courses-data.s3.us.cloud-object-storage.appdomain.cloud (cf-courses-data.s3.us.cloud-object-storage.appdomain.cloud)|169.63.118.104|:443... connected.\n",
      "HTTP request sent, awaiting response... 200 OK\n",
      "Length: 5838 (5.7K) [application/json]\n",
      "Saving to: 'amd.json'\n",
      "\n",
      "amd.json            100%[===================>]   5.70K  --.-KB/s    in 0s      \n",
      "\n",
      "2023-03-03 18:24:14 (278 MB/s) - 'amd.json' saved [5838/5838]\n",
      "\n"
     ]
    }
   ],
   "source": [
    "#Wget is a convenient solution for downloading files over HTTP and FTP protocols. It works well with Python in recursively downloading multiple files, and the process can easily be automated to save you time\n",
    "!wget https://cf-courses-data.s3.us.cloud-object-storage.appdomain.cloud/IBMDeveloperSkillsNetwork-PY0220EN-SkillsNetwork/data/amd.json"
   ]
  },
  {
   "cell_type": "markdown",
   "id": "81c0e293",
   "metadata": {},
   "source": [
    "## Stock Info\n",
    "Using the attribute info we can extract information about the stock as a Python dictionary"
   ]
  },
  {
   "cell_type": "code",
   "execution_count": 16,
   "id": "e245fe38",
   "metadata": {},
   "outputs": [
    {
     "name": "stdout",
     "output_type": "stream",
     "text": [
      "Type: <class 'dict'>\n"
     ]
    }
   ],
   "source": [
    "import json\n",
    "with open('amd.json') as json_file:\n",
    "    amd_info = json.load(json_file)\n",
    "    # Print the type of data variable    \n",
    "print(\"Type:\", type(amd_info))"
   ]
  },
  {
   "cell_type": "code",
   "execution_count": 6,
   "id": "a40a555d",
   "metadata": {},
   "outputs": [
    {
     "data": {
      "text/html": [
       "<div>\n",
       "<style scoped>\n",
       "    .dataframe tbody tr th:only-of-type {\n",
       "        vertical-align: middle;\n",
       "    }\n",
       "\n",
       "    .dataframe tbody tr th {\n",
       "        vertical-align: top;\n",
       "    }\n",
       "\n",
       "    .dataframe thead th {\n",
       "        text-align: right;\n",
       "    }\n",
       "</style>\n",
       "<table border=\"1\" class=\"dataframe\">\n",
       "  <thead>\n",
       "    <tr style=\"text-align: right;\">\n",
       "      <th></th>\n",
       "      <th>Open</th>\n",
       "      <th>High</th>\n",
       "      <th>Low</th>\n",
       "      <th>Close</th>\n",
       "      <th>Volume</th>\n",
       "      <th>Dividends</th>\n",
       "      <th>Stock Splits</th>\n",
       "    </tr>\n",
       "    <tr>\n",
       "      <th>Date</th>\n",
       "      <th></th>\n",
       "      <th></th>\n",
       "      <th></th>\n",
       "      <th></th>\n",
       "      <th></th>\n",
       "      <th></th>\n",
       "      <th></th>\n",
       "    </tr>\n",
       "  </thead>\n",
       "  <tbody>\n",
       "    <tr>\n",
       "      <th>2023-02-03 00:00:00-05:00</th>\n",
       "      <td>86.660004</td>\n",
       "      <td>88.800003</td>\n",
       "      <td>85.830002</td>\n",
       "      <td>86.089996</td>\n",
       "      <td>66525400</td>\n",
       "      <td>0.0</td>\n",
       "      <td>0.0</td>\n",
       "    </tr>\n",
       "    <tr>\n",
       "      <th>2023-02-06 00:00:00-05:00</th>\n",
       "      <td>84.629997</td>\n",
       "      <td>86.279999</td>\n",
       "      <td>83.220001</td>\n",
       "      <td>83.680000</td>\n",
       "      <td>53008900</td>\n",
       "      <td>0.0</td>\n",
       "      <td>0.0</td>\n",
       "    </tr>\n",
       "    <tr>\n",
       "      <th>2023-02-07 00:00:00-05:00</th>\n",
       "      <td>84.320000</td>\n",
       "      <td>86.250000</td>\n",
       "      <td>82.519997</td>\n",
       "      <td>85.910004</td>\n",
       "      <td>65291900</td>\n",
       "      <td>0.0</td>\n",
       "      <td>0.0</td>\n",
       "    </tr>\n",
       "    <tr>\n",
       "      <th>2023-02-08 00:00:00-05:00</th>\n",
       "      <td>85.879997</td>\n",
       "      <td>88.000000</td>\n",
       "      <td>84.540001</td>\n",
       "      <td>84.690002</td>\n",
       "      <td>54140400</td>\n",
       "      <td>0.0</td>\n",
       "      <td>0.0</td>\n",
       "    </tr>\n",
       "    <tr>\n",
       "      <th>2023-02-09 00:00:00-05:00</th>\n",
       "      <td>85.879997</td>\n",
       "      <td>86.669998</td>\n",
       "      <td>82.760002</td>\n",
       "      <td>83.209999</td>\n",
       "      <td>46525400</td>\n",
       "      <td>0.0</td>\n",
       "      <td>0.0</td>\n",
       "    </tr>\n",
       "  </tbody>\n",
       "</table>\n",
       "</div>"
      ],
      "text/plain": [
       "                                Open       High        Low      Close  \\\n",
       "Date                                                                    \n",
       "2023-02-03 00:00:00-05:00  86.660004  88.800003  85.830002  86.089996   \n",
       "2023-02-06 00:00:00-05:00  84.629997  86.279999  83.220001  83.680000   \n",
       "2023-02-07 00:00:00-05:00  84.320000  86.250000  82.519997  85.910004   \n",
       "2023-02-08 00:00:00-05:00  85.879997  88.000000  84.540001  84.690002   \n",
       "2023-02-09 00:00:00-05:00  85.879997  86.669998  82.760002  83.209999   \n",
       "\n",
       "                             Volume  Dividends  Stock Splits  \n",
       "Date                                                          \n",
       "2023-02-03 00:00:00-05:00  66525400        0.0           0.0  \n",
       "2023-02-06 00:00:00-05:00  53008900        0.0           0.0  \n",
       "2023-02-07 00:00:00-05:00  65291900        0.0           0.0  \n",
       "2023-02-08 00:00:00-05:00  54140400        0.0           0.0  \n",
       "2023-02-09 00:00:00-05:00  46525400        0.0           0.0  "
      ]
     },
     "execution_count": 6,
     "metadata": {},
     "output_type": "execute_result"
    }
   ],
   "source": [
    "amd_history = amd.history()\n",
    "amd_history.head()"
   ]
  },
  {
   "cell_type": "code",
   "execution_count": 11,
   "id": "bf08c334",
   "metadata": {},
   "outputs": [
    {
     "data": {
      "text/html": [
       "<div>\n",
       "<style scoped>\n",
       "    .dataframe tbody tr th:only-of-type {\n",
       "        vertical-align: middle;\n",
       "    }\n",
       "\n",
       "    .dataframe tbody tr th {\n",
       "        vertical-align: top;\n",
       "    }\n",
       "\n",
       "    .dataframe thead th {\n",
       "        text-align: right;\n",
       "    }\n",
       "</style>\n",
       "<table border=\"1\" class=\"dataframe\">\n",
       "  <thead>\n",
       "    <tr style=\"text-align: right;\">\n",
       "      <th></th>\n",
       "      <th>Open</th>\n",
       "      <th>High</th>\n",
       "      <th>Low</th>\n",
       "      <th>Close</th>\n",
       "      <th>Volume</th>\n",
       "      <th>Dividends</th>\n",
       "      <th>Stock Splits</th>\n",
       "    </tr>\n",
       "    <tr>\n",
       "      <th>Date</th>\n",
       "      <th></th>\n",
       "      <th></th>\n",
       "      <th></th>\n",
       "      <th></th>\n",
       "      <th></th>\n",
       "      <th></th>\n",
       "      <th></th>\n",
       "    </tr>\n",
       "  </thead>\n",
       "  <tbody>\n",
       "    <tr>\n",
       "      <th>2023-02-03 00:00:00-05:00</th>\n",
       "      <td>86.660004</td>\n",
       "      <td>88.800003</td>\n",
       "      <td>85.830002</td>\n",
       "      <td>86.089996</td>\n",
       "      <td>66525400</td>\n",
       "      <td>0.0</td>\n",
       "      <td>0.0</td>\n",
       "    </tr>\n",
       "    <tr>\n",
       "      <th>2023-02-06 00:00:00-05:00</th>\n",
       "      <td>84.629997</td>\n",
       "      <td>86.279999</td>\n",
       "      <td>83.220001</td>\n",
       "      <td>83.680000</td>\n",
       "      <td>53008900</td>\n",
       "      <td>0.0</td>\n",
       "      <td>0.0</td>\n",
       "    </tr>\n",
       "    <tr>\n",
       "      <th>2023-02-07 00:00:00-05:00</th>\n",
       "      <td>84.320000</td>\n",
       "      <td>86.250000</td>\n",
       "      <td>82.519997</td>\n",
       "      <td>85.910004</td>\n",
       "      <td>65291900</td>\n",
       "      <td>0.0</td>\n",
       "      <td>0.0</td>\n",
       "    </tr>\n",
       "    <tr>\n",
       "      <th>2023-02-08 00:00:00-05:00</th>\n",
       "      <td>85.879997</td>\n",
       "      <td>88.000000</td>\n",
       "      <td>84.540001</td>\n",
       "      <td>84.690002</td>\n",
       "      <td>54140400</td>\n",
       "      <td>0.0</td>\n",
       "      <td>0.0</td>\n",
       "    </tr>\n",
       "    <tr>\n",
       "      <th>2023-02-09 00:00:00-05:00</th>\n",
       "      <td>85.879997</td>\n",
       "      <td>86.669998</td>\n",
       "      <td>82.760002</td>\n",
       "      <td>83.209999</td>\n",
       "      <td>46525400</td>\n",
       "      <td>0.0</td>\n",
       "      <td>0.0</td>\n",
       "    </tr>\n",
       "    <tr>\n",
       "      <th>2023-02-10 00:00:00-05:00</th>\n",
       "      <td>82.290001</td>\n",
       "      <td>82.709999</td>\n",
       "      <td>80.470001</td>\n",
       "      <td>81.480003</td>\n",
       "      <td>49310800</td>\n",
       "      <td>0.0</td>\n",
       "      <td>0.0</td>\n",
       "    </tr>\n",
       "    <tr>\n",
       "      <th>2023-02-13 00:00:00-05:00</th>\n",
       "      <td>81.570000</td>\n",
       "      <td>84.150002</td>\n",
       "      <td>80.900002</td>\n",
       "      <td>83.129997</td>\n",
       "      <td>45400000</td>\n",
       "      <td>0.0</td>\n",
       "      <td>0.0</td>\n",
       "    </tr>\n",
       "    <tr>\n",
       "      <th>2023-02-14 00:00:00-05:00</th>\n",
       "      <td>82.699997</td>\n",
       "      <td>86.190002</td>\n",
       "      <td>81.769997</td>\n",
       "      <td>85.949997</td>\n",
       "      <td>55979700</td>\n",
       "      <td>0.0</td>\n",
       "      <td>0.0</td>\n",
       "    </tr>\n",
       "    <tr>\n",
       "      <th>2023-02-15 00:00:00-05:00</th>\n",
       "      <td>85.099998</td>\n",
       "      <td>85.889999</td>\n",
       "      <td>83.320000</td>\n",
       "      <td>85.180000</td>\n",
       "      <td>46483200</td>\n",
       "      <td>0.0</td>\n",
       "      <td>0.0</td>\n",
       "    </tr>\n",
       "    <tr>\n",
       "      <th>2023-02-16 00:00:00-05:00</th>\n",
       "      <td>82.980003</td>\n",
       "      <td>83.349998</td>\n",
       "      <td>80.050003</td>\n",
       "      <td>80.080002</td>\n",
       "      <td>57755200</td>\n",
       "      <td>0.0</td>\n",
       "      <td>0.0</td>\n",
       "    </tr>\n",
       "    <tr>\n",
       "      <th>2023-02-17 00:00:00-05:00</th>\n",
       "      <td>79.599998</td>\n",
       "      <td>79.650002</td>\n",
       "      <td>77.370003</td>\n",
       "      <td>78.500000</td>\n",
       "      <td>47784200</td>\n",
       "      <td>0.0</td>\n",
       "      <td>0.0</td>\n",
       "    </tr>\n",
       "    <tr>\n",
       "      <th>2023-02-21 00:00:00-05:00</th>\n",
       "      <td>77.150002</td>\n",
       "      <td>78.459999</td>\n",
       "      <td>76.449997</td>\n",
       "      <td>76.769997</td>\n",
       "      <td>44045600</td>\n",
       "      <td>0.0</td>\n",
       "      <td>0.0</td>\n",
       "    </tr>\n",
       "    <tr>\n",
       "      <th>2023-02-22 00:00:00-05:00</th>\n",
       "      <td>76.930000</td>\n",
       "      <td>78.129997</td>\n",
       "      <td>75.919998</td>\n",
       "      <td>76.610001</td>\n",
       "      <td>50286800</td>\n",
       "      <td>0.0</td>\n",
       "      <td>0.0</td>\n",
       "    </tr>\n",
       "    <tr>\n",
       "      <th>2023-02-23 00:00:00-05:00</th>\n",
       "      <td>80.629997</td>\n",
       "      <td>81.790001</td>\n",
       "      <td>77.970001</td>\n",
       "      <td>79.750000</td>\n",
       "      <td>76391300</td>\n",
       "      <td>0.0</td>\n",
       "      <td>0.0</td>\n",
       "    </tr>\n",
       "    <tr>\n",
       "      <th>2023-02-24 00:00:00-05:00</th>\n",
       "      <td>77.750000</td>\n",
       "      <td>78.809998</td>\n",
       "      <td>76.940002</td>\n",
       "      <td>78.089996</td>\n",
       "      <td>46700000</td>\n",
       "      <td>0.0</td>\n",
       "      <td>0.0</td>\n",
       "    </tr>\n",
       "    <tr>\n",
       "      <th>2023-02-27 00:00:00-05:00</th>\n",
       "      <td>79.639999</td>\n",
       "      <td>80.120003</td>\n",
       "      <td>78.529999</td>\n",
       "      <td>78.769997</td>\n",
       "      <td>45617300</td>\n",
       "      <td>0.0</td>\n",
       "      <td>0.0</td>\n",
       "    </tr>\n",
       "    <tr>\n",
       "      <th>2023-02-28 00:00:00-05:00</th>\n",
       "      <td>77.870003</td>\n",
       "      <td>80.139999</td>\n",
       "      <td>77.419998</td>\n",
       "      <td>78.580002</td>\n",
       "      <td>44220100</td>\n",
       "      <td>0.0</td>\n",
       "      <td>0.0</td>\n",
       "    </tr>\n",
       "    <tr>\n",
       "      <th>2023-03-01 00:00:00-05:00</th>\n",
       "      <td>78.550003</td>\n",
       "      <td>80.290001</td>\n",
       "      <td>77.879997</td>\n",
       "      <td>78.290001</td>\n",
       "      <td>44266000</td>\n",
       "      <td>0.0</td>\n",
       "      <td>0.0</td>\n",
       "    </tr>\n",
       "    <tr>\n",
       "      <th>2023-03-02 00:00:00-05:00</th>\n",
       "      <td>77.570000</td>\n",
       "      <td>80.919998</td>\n",
       "      <td>76.650002</td>\n",
       "      <td>80.440002</td>\n",
       "      <td>60108600</td>\n",
       "      <td>0.0</td>\n",
       "      <td>0.0</td>\n",
       "    </tr>\n",
       "    <tr>\n",
       "      <th>2023-03-03 00:00:00-05:00</th>\n",
       "      <td>80.400002</td>\n",
       "      <td>81.169998</td>\n",
       "      <td>79.339996</td>\n",
       "      <td>81.000000</td>\n",
       "      <td>36186754</td>\n",
       "      <td>0.0</td>\n",
       "      <td>0.0</td>\n",
       "    </tr>\n",
       "  </tbody>\n",
       "</table>\n",
       "</div>"
      ],
      "text/plain": [
       "                                Open       High        Low      Close  \\\n",
       "Date                                                                    \n",
       "2023-02-03 00:00:00-05:00  86.660004  88.800003  85.830002  86.089996   \n",
       "2023-02-06 00:00:00-05:00  84.629997  86.279999  83.220001  83.680000   \n",
       "2023-02-07 00:00:00-05:00  84.320000  86.250000  82.519997  85.910004   \n",
       "2023-02-08 00:00:00-05:00  85.879997  88.000000  84.540001  84.690002   \n",
       "2023-02-09 00:00:00-05:00  85.879997  86.669998  82.760002  83.209999   \n",
       "2023-02-10 00:00:00-05:00  82.290001  82.709999  80.470001  81.480003   \n",
       "2023-02-13 00:00:00-05:00  81.570000  84.150002  80.900002  83.129997   \n",
       "2023-02-14 00:00:00-05:00  82.699997  86.190002  81.769997  85.949997   \n",
       "2023-02-15 00:00:00-05:00  85.099998  85.889999  83.320000  85.180000   \n",
       "2023-02-16 00:00:00-05:00  82.980003  83.349998  80.050003  80.080002   \n",
       "2023-02-17 00:00:00-05:00  79.599998  79.650002  77.370003  78.500000   \n",
       "2023-02-21 00:00:00-05:00  77.150002  78.459999  76.449997  76.769997   \n",
       "2023-02-22 00:00:00-05:00  76.930000  78.129997  75.919998  76.610001   \n",
       "2023-02-23 00:00:00-05:00  80.629997  81.790001  77.970001  79.750000   \n",
       "2023-02-24 00:00:00-05:00  77.750000  78.809998  76.940002  78.089996   \n",
       "2023-02-27 00:00:00-05:00  79.639999  80.120003  78.529999  78.769997   \n",
       "2023-02-28 00:00:00-05:00  77.870003  80.139999  77.419998  78.580002   \n",
       "2023-03-01 00:00:00-05:00  78.550003  80.290001  77.879997  78.290001   \n",
       "2023-03-02 00:00:00-05:00  77.570000  80.919998  76.650002  80.440002   \n",
       "2023-03-03 00:00:00-05:00  80.400002  81.169998  79.339996  81.000000   \n",
       "\n",
       "                             Volume  Dividends  Stock Splits  \n",
       "Date                                                          \n",
       "2023-02-03 00:00:00-05:00  66525400        0.0           0.0  \n",
       "2023-02-06 00:00:00-05:00  53008900        0.0           0.0  \n",
       "2023-02-07 00:00:00-05:00  65291900        0.0           0.0  \n",
       "2023-02-08 00:00:00-05:00  54140400        0.0           0.0  \n",
       "2023-02-09 00:00:00-05:00  46525400        0.0           0.0  \n",
       "2023-02-10 00:00:00-05:00  49310800        0.0           0.0  \n",
       "2023-02-13 00:00:00-05:00  45400000        0.0           0.0  \n",
       "2023-02-14 00:00:00-05:00  55979700        0.0           0.0  \n",
       "2023-02-15 00:00:00-05:00  46483200        0.0           0.0  \n",
       "2023-02-16 00:00:00-05:00  57755200        0.0           0.0  \n",
       "2023-02-17 00:00:00-05:00  47784200        0.0           0.0  \n",
       "2023-02-21 00:00:00-05:00  44045600        0.0           0.0  \n",
       "2023-02-22 00:00:00-05:00  50286800        0.0           0.0  \n",
       "2023-02-23 00:00:00-05:00  76391300        0.0           0.0  \n",
       "2023-02-24 00:00:00-05:00  46700000        0.0           0.0  \n",
       "2023-02-27 00:00:00-05:00  45617300        0.0           0.0  \n",
       "2023-02-28 00:00:00-05:00  44220100        0.0           0.0  \n",
       "2023-03-01 00:00:00-05:00  44266000        0.0           0.0  \n",
       "2023-03-02 00:00:00-05:00  60108600        0.0           0.0  \n",
       "2023-03-03 00:00:00-05:00  36186754        0.0           0.0  "
      ]
     },
     "metadata": {},
     "output_type": "display_data"
    }
   ],
   "source": [
    "display(amd_history)"
   ]
  },
  {
   "cell_type": "markdown",
   "id": "3b478df5",
   "metadata": {},
   "source": [
    "## Extracting the share prices\n",
    "Using the history( ) method we can get the share price of the stock over a certain period of time. Using the period parameter we can set how far back from the present to get data. The options for period are 1 day (1d), 5d, 1 month (1mo) , 3mo, 6mo, 1 year (1y), 2y, 5y, 10y, ytd, and max."
   ]
  },
  {
   "cell_type": "code",
   "execution_count": 8,
   "id": "8250e4a3",
   "metadata": {
    "scrolled": false
   },
   "outputs": [
    {
     "data": {
      "text/html": [
       "<div>\n",
       "<style scoped>\n",
       "    .dataframe tbody tr th:only-of-type {\n",
       "        vertical-align: middle;\n",
       "    }\n",
       "\n",
       "    .dataframe tbody tr th {\n",
       "        vertical-align: top;\n",
       "    }\n",
       "\n",
       "    .dataframe thead th {\n",
       "        text-align: right;\n",
       "    }\n",
       "</style>\n",
       "<table border=\"1\" class=\"dataframe\">\n",
       "  <thead>\n",
       "    <tr style=\"text-align: right;\">\n",
       "      <th></th>\n",
       "      <th>Open</th>\n",
       "      <th>High</th>\n",
       "      <th>Low</th>\n",
       "      <th>Close</th>\n",
       "      <th>Volume</th>\n",
       "      <th>Dividends</th>\n",
       "      <th>Stock Splits</th>\n",
       "    </tr>\n",
       "    <tr>\n",
       "      <th>Date</th>\n",
       "      <th></th>\n",
       "      <th></th>\n",
       "      <th></th>\n",
       "      <th></th>\n",
       "      <th></th>\n",
       "      <th></th>\n",
       "      <th></th>\n",
       "    </tr>\n",
       "  </thead>\n",
       "  <tbody>\n",
       "    <tr>\n",
       "      <th>1980-03-17 00:00:00-05:00</th>\n",
       "      <td>0.0</td>\n",
       "      <td>3.302083</td>\n",
       "      <td>3.125000</td>\n",
       "      <td>3.145833</td>\n",
       "      <td>219600</td>\n",
       "      <td>0.0</td>\n",
       "      <td>0.0</td>\n",
       "    </tr>\n",
       "    <tr>\n",
       "      <th>1980-03-18 00:00:00-05:00</th>\n",
       "      <td>0.0</td>\n",
       "      <td>3.125000</td>\n",
       "      <td>2.937500</td>\n",
       "      <td>3.031250</td>\n",
       "      <td>727200</td>\n",
       "      <td>0.0</td>\n",
       "      <td>0.0</td>\n",
       "    </tr>\n",
       "    <tr>\n",
       "      <th>1980-03-19 00:00:00-05:00</th>\n",
       "      <td>0.0</td>\n",
       "      <td>3.083333</td>\n",
       "      <td>3.020833</td>\n",
       "      <td>3.041667</td>\n",
       "      <td>295200</td>\n",
       "      <td>0.0</td>\n",
       "      <td>0.0</td>\n",
       "    </tr>\n",
       "    <tr>\n",
       "      <th>1980-03-20 00:00:00-05:00</th>\n",
       "      <td>0.0</td>\n",
       "      <td>3.062500</td>\n",
       "      <td>3.010417</td>\n",
       "      <td>3.010417</td>\n",
       "      <td>159600</td>\n",
       "      <td>0.0</td>\n",
       "      <td>0.0</td>\n",
       "    </tr>\n",
       "    <tr>\n",
       "      <th>1980-03-21 00:00:00-05:00</th>\n",
       "      <td>0.0</td>\n",
       "      <td>3.020833</td>\n",
       "      <td>2.906250</td>\n",
       "      <td>2.916667</td>\n",
       "      <td>130800</td>\n",
       "      <td>0.0</td>\n",
       "      <td>0.0</td>\n",
       "    </tr>\n",
       "  </tbody>\n",
       "</table>\n",
       "</div>"
      ],
      "text/plain": [
       "                           Open      High       Low     Close  Volume  \\\n",
       "Date                                                                    \n",
       "1980-03-17 00:00:00-05:00   0.0  3.302083  3.125000  3.145833  219600   \n",
       "1980-03-18 00:00:00-05:00   0.0  3.125000  2.937500  3.031250  727200   \n",
       "1980-03-19 00:00:00-05:00   0.0  3.083333  3.020833  3.041667  295200   \n",
       "1980-03-20 00:00:00-05:00   0.0  3.062500  3.010417  3.010417  159600   \n",
       "1980-03-21 00:00:00-05:00   0.0  3.020833  2.906250  2.916667  130800   \n",
       "\n",
       "                           Dividends  Stock Splits  \n",
       "Date                                                \n",
       "1980-03-17 00:00:00-05:00        0.0           0.0  \n",
       "1980-03-18 00:00:00-05:00        0.0           0.0  \n",
       "1980-03-19 00:00:00-05:00        0.0           0.0  \n",
       "1980-03-20 00:00:00-05:00        0.0           0.0  \n",
       "1980-03-21 00:00:00-05:00        0.0           0.0  "
      ]
     },
     "execution_count": 8,
     "metadata": {},
     "output_type": "execute_result"
    }
   ],
   "source": [
    "#Obtain stock data for AMD using the history function, set the period to max.\n",
    "amd_history_max = amd.history(period='max')\n",
    "amd_history_max.head()"
   ]
  },
  {
   "cell_type": "markdown",
   "id": "0f054c20",
   "metadata": {},
   "source": [
    "We can reset the index of the DataFrame with the reset_index function. We also set the inplace paramter to True so the change takes place to the DataFrame itself.\n",
    "\n",
    "The reset_index() method allows you reset the index back to the default 0, 1, 2 etc indexes. By default this method will keep the \"old\" idexes in a column named \"index\", to avoid this, use the drop parameter."
   ]
  },
  {
   "cell_type": "code",
   "execution_count": 35,
   "id": "f0bf6839",
   "metadata": {
    "scrolled": false
   },
   "outputs": [
    {
     "data": {
      "text/plain": [
       "<AxesSubplot:xlabel='Date'>"
      ]
     },
     "execution_count": 35,
     "metadata": {},
     "output_type": "execute_result"
    },
    {
     "data": {
      "image/png": "[encoded data removed]",
      "text/plain": [
       "<Figure size 640x480 with 1 Axes>"
      ]
     },
     "metadata": {},
     "output_type": "display_data"
    }
   ],
   "source": [
    "amd_history_max.reset_index(inplace=True)We can reset the index of the DataFrame with the reset_index function. We also set the inplace paramter to True so the change takes place to the DataFrame itself.\n",
    "\n",
    "The reset_index() method allows you reset the index back to the default 0, 1, 2 etc indexes. By default this method will keep the \"old\" idexes in a column named \"index\", to avoid this, use the drop parameter.\n",
    "amd_history_max.plot(x=\"Date\",y=\"Volume\")"
   ]
  },
  {
   "cell_type": "markdown",
   "id": "365edf31",
   "metadata": {},
   "source": [
    "# Project 2\n",
    "This project uses yfinance and pandas library to extract data from a JSON file. We then plot the data"
   ]
  },
  {
   "cell_type": "code",
   "execution_count": 18,
   "id": "391aa960",
   "metadata": {},
   "outputs": [],
   "source": [
    "apple = yf.Ticker(\"AAPL\")"
   ]
  },
  {
   "cell_type": "code",
   "execution_count": 19,
   "id": "edc03815",
   "metadata": {},
   "outputs": [
    {
     "name": "stdout",
     "output_type": "stream",
     "text": [
      "--2023-03-03 18:46:32--  https://cf-courses-data.s3.us.cloud-object-storage.appdomain.cloud/IBMDeveloperSkillsNetwork-PY0220EN-SkillsNetwork/data/apple.json\n",
      "Resolving cf-courses-data.s3.us.cloud-object-storage.appdomain.cloud (cf-courses-data.s3.us.cloud-object-storage.appdomain.cloud)... 169.63.118.104\n",
      "Connecting to cf-courses-data.s3.us.cloud-object-storage.appdomain.cloud (cf-courses-data.s3.us.cloud-object-storage.appdomain.cloud)|169.63.118.104|:443... connected.\n",
      "HTTP request sent, awaiting response... 200 OK\n",
      "Length: 5699 (5.6K) [application/json]\n",
      "Saving to: 'apple.json'\n",
      "\n",
      "apple.json          100%[===================>]   5.57K  --.-KB/s    in 0s      \n",
      "\n",
      "2023-03-03 18:46:32 (286 MB/s) - 'apple.json' saved [5699/5699]\n",
      "\n"
     ]
    }
   ],
   "source": [
    "!wget https://cf-courses-data.s3.us.cloud-object-storage.appdomain.cloud/IBMDeveloperSkillsNetwork-PY0220EN-SkillsNetwork/data/apple.json"
   ]
  },
  {
   "cell_type": "code",
   "execution_count": 21,
   "id": "e275d79c",
   "metadata": {},
   "outputs": [
    {
     "name": "stdout",
     "output_type": "stream",
     "text": [
      "Type:  <class 'dict'>\n"
     ]
    }
   ],
   "source": [
    "import json \n",
    "with open('apple.json') as json_file:\n",
    "    apple_info = json.load(json_file)\n",
    "print(\"Type: \",(type(apple_info)))"
   ]
  },
  {
   "cell_type": "code",
   "execution_count": 26,
   "id": "f9dea1e8",
   "metadata": {},
   "outputs": [
    {
     "name": "stdout",
     "output_type": "stream",
     "text": [
      "Apple Inc. designs, manufactures, and markets smartphones, personal computers, tablets, wearables, and accessories worldwide. It also sells various related services. In addition, the company offers iPhone, a line of smartphones; Mac, a line of personal computers; iPad, a line of multi-purpose tablets; AirPods Max, an over-ear wireless headphone; and wearables, home, and accessories comprising AirPods, Apple TV, Apple Watch, Beats products, HomePod, and iPod touch. Further, it provides AppleCare support services; cloud services store services; and operates various platforms, including the App Store that allow customers to discover and download applications and digital content, such as books, music, video, games, and podcasts. Additionally, the company offers various services, such as Apple Arcade, a game subscription service; Apple Music, which offers users a curated listening experience with on-demand radio stations; Apple News+, a subscription news and magazine service; Apple TV+, which offers exclusive original content; Apple Card, a co-branded credit card; and Apple Pay, a cashless payment service, as well as licenses its intellectual property. The company serves consumers, and small and mid-sized businesses; and the education, enterprise, and government markets. It distributes third-party applications for its products through the App Store. The company also sells its products through its retail and online stores, and direct sales force; and third-party cellular network carriers, wholesalers, retailers, and resellers. Apple Inc. was incorporated in 1977 and is headquartered in Cupertino, California.\n",
      "United States\n",
      "Technology\n"
     ]
    }
   ],
   "source": [
    "#To find out information about Apple, we use a string index\n",
    "print(apple_info['longBusinessSummary'])\n",
    "print(apple_info['country'])\n",
    "print(apple_info['sector'])"
   ]
  },
  {
   "cell_type": "markdown",
   "id": "567367f7",
   "metadata": {},
   "source": [
    "## Extracting the share prices\n",
    "Using the history( ) method we can get the share price of the stock over a certain period of time. Using the period parameter we can set how far back from the present to get data. The options for period are 1 day (1d), 5d, 1 month (1mo) , 3mo, 6mo, 1 year (1y), 2y, 5y, 10y, ytd, and max."
   ]
  },
  {
   "cell_type": "code",
   "execution_count": 39,
   "id": "af5945c3",
   "metadata": {},
   "outputs": [
    {
     "data": {
      "text/html": [
       "<div>\n",
       "<style scoped>\n",
       "    .dataframe tbody tr th:only-of-type {\n",
       "        vertical-align: middle;\n",
       "    }\n",
       "\n",
       "    .dataframe tbody tr th {\n",
       "        vertical-align: top;\n",
       "    }\n",
       "\n",
       "    .dataframe thead th {\n",
       "        text-align: right;\n",
       "    }\n",
       "</style>\n",
       "<table border=\"1\" class=\"dataframe\">\n",
       "  <thead>\n",
       "    <tr style=\"text-align: right;\">\n",
       "      <th></th>\n",
       "      <th>Open</th>\n",
       "      <th>High</th>\n",
       "      <th>Low</th>\n",
       "      <th>Close</th>\n",
       "      <th>Volume</th>\n",
       "      <th>Dividends</th>\n",
       "      <th>Stock Splits</th>\n",
       "    </tr>\n",
       "    <tr>\n",
       "      <th>Date</th>\n",
       "      <th></th>\n",
       "      <th></th>\n",
       "      <th></th>\n",
       "      <th></th>\n",
       "      <th></th>\n",
       "      <th></th>\n",
       "      <th></th>\n",
       "    </tr>\n",
       "  </thead>\n",
       "  <tbody>\n",
       "    <tr>\n",
       "      <th>2018-03-05 00:00:00-05:00</th>\n",
       "      <td>41.757859</td>\n",
       "      <td>42.360835</td>\n",
       "      <td>41.593411</td>\n",
       "      <td>42.141571</td>\n",
       "      <td>113605600</td>\n",
       "      <td>0.0</td>\n",
       "      <td>0.0</td>\n",
       "    </tr>\n",
       "    <tr>\n",
       "      <th>2018-03-06 00:00:00-05:00</th>\n",
       "      <td>42.401347</td>\n",
       "      <td>42.482378</td>\n",
       "      <td>41.977119</td>\n",
       "      <td>42.105816</td>\n",
       "      <td>95154000</td>\n",
       "      <td>0.0</td>\n",
       "      <td>0.0</td>\n",
       "    </tr>\n",
       "    <tr>\n",
       "      <th>2018-03-07 00:00:00-05:00</th>\n",
       "      <td>41.693498</td>\n",
       "      <td>41.910379</td>\n",
       "      <td>41.533817</td>\n",
       "      <td>41.714947</td>\n",
       "      <td>126814000</td>\n",
       "      <td>0.0</td>\n",
       "      <td>0.0</td>\n",
       "    </tr>\n",
       "    <tr>\n",
       "      <th>2018-03-08 00:00:00-05:00</th>\n",
       "      <td>41.822195</td>\n",
       "      <td>42.213056</td>\n",
       "      <td>41.724482</td>\n",
       "      <td>42.170158</td>\n",
       "      <td>95096400</td>\n",
       "      <td>0.0</td>\n",
       "      <td>0.0</td>\n",
       "    </tr>\n",
       "    <tr>\n",
       "      <th>2018-03-09 00:00:00-05:00</th>\n",
       "      <td>42.413256</td>\n",
       "      <td>42.899448</td>\n",
       "      <td>42.277406</td>\n",
       "      <td>42.894680</td>\n",
       "      <td>128740800</td>\n",
       "      <td>0.0</td>\n",
       "      <td>0.0</td>\n",
       "    </tr>\n",
       "  </tbody>\n",
       "</table>\n",
       "</div>"
      ],
      "text/plain": [
       "                                Open       High        Low      Close  \\\n",
       "Date                                                                    \n",
       "2018-03-05 00:00:00-05:00  41.757859  42.360835  41.593411  42.141571   \n",
       "2018-03-06 00:00:00-05:00  42.401347  42.482378  41.977119  42.105816   \n",
       "2018-03-07 00:00:00-05:00  41.693498  41.910379  41.533817  41.714947   \n",
       "2018-03-08 00:00:00-05:00  41.822195  42.213056  41.724482  42.170158   \n",
       "2018-03-09 00:00:00-05:00  42.413256  42.899448  42.277406  42.894680   \n",
       "\n",
       "                              Volume  Dividends  Stock Splits  \n",
       "Date                                                           \n",
       "2018-03-05 00:00:00-05:00  113605600        0.0           0.0  \n",
       "2018-03-06 00:00:00-05:00   95154000        0.0           0.0  \n",
       "2018-03-07 00:00:00-05:00  126814000        0.0           0.0  \n",
       "2018-03-08 00:00:00-05:00   95096400        0.0           0.0  \n",
       "2018-03-09 00:00:00-05:00  128740800        0.0           0.0  "
      ]
     },
     "execution_count": 39,
     "metadata": {},
     "output_type": "execute_result"
    }
   ],
   "source": [
    "apple_share_price_data = apple.history(period=\"5y\")\n",
    "apple_share_price_data.head()"
   ]
  },
  {
   "cell_type": "markdown",
   "id": "d5e60106",
   "metadata": {},
   "source": [
    "We can reset the index of the DataFrame with the reset_index function. We also set the inplace paramter to True so the change takes place to the DataFrame itself.\n",
    "\n",
    "The reset_index() method allows you reset the index back to the default 0, 1, 2 etc indexes. By default this method will keep the \"old\" idexes in a column named \"index\", to avoid this, use the drop parameter."
   ]
  },
  {
   "cell_type": "code",
   "execution_count": 40,
   "id": "cc9eb029",
   "metadata": {},
   "outputs": [
    {
     "data": {
      "text/plain": [
       "<AxesSubplot:xlabel='Date'>"
      ]
     },
     "execution_count": 40,
     "metadata": {},
     "output_type": "execute_result"
    },
    {
     "data": {
      "image/png": "[encoded data removed]",
      "text/plain": [
       "<Figure size 640x480 with 1 Axes>"
      ]
     },
     "metadata": {},
     "output_type": "display_data"
    }
   ],
   "source": [
    "apple_share_price_data.reset_index(inplace=True)\n",
    "apple_share_price_data.plot(x=\"Date\",y=\"Open\")"
   ]
  },
  {
   "cell_type": "markdown",
   "id": "50eee136",
   "metadata": {},
   "source": [
    "## Extracting and Plotting Dividends"
   ]
  },
  {
   "cell_type": "code",
   "execution_count": 42,
   "id": "bcb112ca",
   "metadata": {},
   "outputs": [
    {
     "data": {
      "text/plain": [
       "Date\n",
       "2018-05-11 00:00:00-04:00    0.1825\n",
       "2018-08-10 00:00:00-04:00    0.1825\n",
       "2018-11-08 00:00:00-05:00    0.1825\n",
       "2019-02-08 00:00:00-05:00    0.1825\n",
       "2019-05-10 00:00:00-04:00    0.1925\n",
       "2019-08-09 00:00:00-04:00    0.1925\n",
       "2019-11-07 00:00:00-05:00    0.1925\n",
       "2020-02-07 00:00:00-05:00    0.1925\n",
       "2020-05-08 00:00:00-04:00    0.2050\n",
       "2020-08-07 00:00:00-04:00    0.2050\n",
       "2020-11-06 00:00:00-05:00    0.2050\n",
       "2021-02-05 00:00:00-05:00    0.2050\n",
       "2021-05-07 00:00:00-04:00    0.2200\n",
       "2021-08-06 00:00:00-04:00    0.2200\n",
       "2021-11-05 00:00:00-04:00    0.2200\n",
       "2022-02-04 00:00:00-05:00    0.2200\n",
       "2022-05-06 00:00:00-04:00    0.2300\n",
       "2022-08-05 00:00:00-04:00    0.2300\n",
       "2022-11-04 00:00:00-04:00    0.2300\n",
       "2023-02-10 00:00:00-05:00    0.2300\n",
       "Name: Dividends, dtype: float64"
      ]
     },
     "execution_count": 42,
     "metadata": {},
     "output_type": "execute_result"
    }
   ],
   "source": [
    "apple.dividends"
   ]
  },
  {
   "cell_type": "code",
   "execution_count": 45,
   "id": "5a0d319e",
   "metadata": {},
   "outputs": [
    {
     "data": {
      "text/plain": [
       "<AxesSubplot:xlabel='Date'>"
      ]
     },
     "execution_count": 45,
     "metadata": {},
     "output_type": "execute_result"
    },
    {
     "data": {
      "image/png": "[encoded data removed]",
      "text/plain": [
       "<Figure size 640x480 with 1 Axes>"
      ]
     },
     "metadata": {},
     "output_type": "display_data"
    }
   ],
   "source": [
    "apple.history(period=\"max\")\n",
    "apple_share_price_data.reset_index(inplace=True)\n",
    "\n",
    "apple.dividends.plot(x=\"date\",y=\"dividends\")"
   ]
  },
  {
   "cell_type": "code",
   "execution_count": null,
   "id": "0fb726a1",
   "metadata": {},
   "outputs": [],
   "source": []
  }
 ],
 "metadata": {
  "kernelspec": {
   "display_name": "Python 3 (ipykernel)",
   "language": "python",
   "name": "python3"
  },
  "language_info": {
   "codemirror_mode": {
    "name": "ipython",
    "version": 3
   },
   "file_extension": ".py",
   "mimetype": "text/x-python",
   "name": "python",
   "nbconvert_exporter": "python",
   "pygments_lexer": "ipython3",
   "version": "3.9.13"
  }
 },
 "nbformat": 4,
 "nbformat_minor": 5
}
